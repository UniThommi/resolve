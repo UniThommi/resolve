{
 "cells": [
  {
   "cell_type": "code",
   "execution_count": null,
   "metadata": {},
   "outputs": [],
   "source": [
    "import os\n",
    "#os.environ[\"OMP_NUM_THREADS\"] = \"1\"\n",
    "#os.environ[\"PYTENSOR_FLAGS\"] = \"compiledir=./pytensor_cache,mode=FAST_COMPILE,optimizer=None\""
   ]
  },
  {
   "cell_type": "code",
   "execution_count": null,
   "metadata": {},
   "outputs": [],
   "source": [
    "import numpy as np\n",
    "import pandas as pd\n",
    "import yaml\n",
    "np.random.seed(42)\n",
    "import os\n",
    "from resolve.polynomial_chaos_expansion import PCEMultiFidelityModel\n",
    "import matplotlib.pyplot as plt\n"
   ]
  },
  {
   "cell_type": "code",
   "execution_count": null,
   "metadata": {},
   "outputs": [],
   "source": [
    "# Set the path to the yaml settings file here\n",
    "path_to_settings = \"../\"\n",
    "with open(f\"{path_to_settings}/settings.yaml\", \"r\") as f:\n",
    "    config_file = yaml.safe_load(f)\n",
    "\n",
    "version       = config_file[\"path_settings\"][\"version\"]\n",
    "path_out_cnp  = config_file[\"path_settings\"][\"path_out_cnp\"]\n",
    "path_out_cnp  += f\"/{version}\"\n",
    "path_out_pce  = config_file[\"path_settings\"][\"path_out_pce\"]\n",
    "path_out_pce  += f\"/{version}\"\n",
    "\n",
    "file_in       = f'{path_out_cnp}/cnp_{version}_output.csv'\n"
   ]
  },
  {
   "cell_type": "code",
   "execution_count": null,
   "metadata": {},
   "outputs": [],
   "source": [
    "\n",
    "if not os.path.exists(path_out_pce):\n",
    "   os.makedirs(path_out_pce)\n",
    "\n",
    "# Set parameter name/x_labels -> needs to be consistent with data input file\n",
    "x_labels        = config_file[\"simulation_settings\"][\"theta_headers\"]\n",
    "y_label_lf     = 'y_cnp'\n",
    "y_err_label_lf = 'y_cnp_err'\n",
    "y_label_mf     = 'y_cnp'\n",
    "y_err_label_mf = 'y_cnp_err'\n",
    "y_label_hf     = 'y_raw'\n",
    "\n",
    "\n",
    "# Set parameter boundaries\n",
    "xmin    = config_file[\"simulation_settings\"][\"theta_min\"]\n",
    "xmax    = config_file[\"simulation_settings\"][\"theta_max\"]\n",
    "x_fixed = config_file[\"simulation_settings\"][\"theta_fixed\"]\n",
    "parameters={}\n",
    "for i,x in enumerate(x_labels):\n",
    "   parameters[x]=[xmin[i],xmax[i]]\n"
   ]
  },
  {
   "cell_type": "code",
   "execution_count": null,
   "metadata": {},
   "outputs": [],
   "source": [
    "df_data=pd.read_csv(file_in)\n",
    "data = df_data.drop_duplicates()"
   ]
  },
  {
   "cell_type": "code",
   "execution_count": null,
   "metadata": {},
   "outputs": [],
   "source": [
    "\n",
    "LF_cnp_noise=np.mean(df_data.loc[(df_data['fidelity']==0.) & (df_data['iteration']==0)][y_err_label_lf].to_numpy())\n",
    "MF_cnp_noise=np.mean(df_data.loc[(df_data['fidelity']==1.) & (df_data['iteration']==0)][y_err_label_mf].to_numpy())\n",
    "LF_sim_noise=np.std(df_data.loc[(df_data['fidelity']==0.) & (df_data['iteration']==0)][y_label_hf].to_numpy())\n",
    "HF_sim_noise=np.std(df_data.loc[(df_data['fidelity']==1.) & (df_data['iteration']==0)][y_label_hf].to_numpy())\n",
    "\n",
    "x_train_hf = df_data.loc[(df_data['fidelity']==1.) & (df_data['iteration']==0)][x_labels].to_numpy()\n",
    "y_train_hf = df_data.loc[(df_data['fidelity']==1.) & (df_data['iteration']==0)][y_label_hf].to_numpy()\n",
    "\n",
    "x_train_mf = df_data.loc[(df_data['fidelity']==1.) & (df_data['iteration']==0)][x_labels].to_numpy()\n",
    "y_train_mf = df_data.loc[(df_data['fidelity']==1.) & (df_data['iteration']==0)][ y_label_lf].to_numpy()\n",
    "\n",
    "x_train_lf = df_data.loc[(df_data['fidelity']==0.) & (df_data['iteration']==0)][x_labels].to_numpy()\n",
    "y_train_lf = df_data.loc[(df_data['fidelity']==0.) & (df_data['iteration']==0)][ y_label_lf].to_numpy()\n",
    "\n",
    "data_dict = {\n",
    "    \"lf\": [x_train_lf, y_train_lf], \n",
    "    \"mf\": [x_train_mf, y_train_mf], \n",
    "    \"hf\": [x_train_hf, y_train_hf]\n",
    "}"
   ]
  },
  {
   "cell_type": "code",
   "execution_count": null,
   "metadata": {},
   "outputs": [],
   "source": [
    "priors = config_file[\"pce_settings\"][\"priors\"]\n",
    "priors[\"lf\"][\"sigma_y\"] = LF_cnp_noise\n",
    "#priors[\"hf\"][\"sigma_y\"] = sigma_y\n",
    "print(\"Fidelities used: \",list(priors.keys()))\n",
    "polynomial_order = config_file[\"pce_settings\"][\"polynomial_order\"]\n",
    "print(\"Setting polynomial order to: \", polynomial_order)\n",
    "print(\"Reading in priors from setting file:\\n\", priors)\n",
    "\n",
    "# Set trainings data\n",
    "trainings_data = {}\n",
    "for key in priors:#\n",
    "    trainings_data[key]=data_dict[key]\n"
   ]
  },
  {
   "cell_type": "code",
   "execution_count": null,
   "metadata": {},
   "outputs": [],
   "source": [
    "# Initialize the multi-fidelity model\n",
    "multi_fidelity_model = None\n",
    "multi_fidelity_model = PCEMultiFidelityModel(trainings_data, priors, parameters,degree=polynomial_order)"
   ]
  },
  {
   "cell_type": "code",
   "execution_count": null,
   "metadata": {},
   "outputs": [],
   "source": [
    "multi_fidelity_model.build_model()\n",
    "multi_fidelity_model.sanity_check_of_basis()"
   ]
  },
  {
   "cell_type": "code",
   "execution_count": null,
   "metadata": {},
   "outputs": [],
   "source": [
    "trace = multi_fidelity_model.run_inference(method=\"nuts\", n_samples=2000,tune=1000, chains=4, cores=4, target_accept=0.95)"
   ]
  },
  {
   "cell_type": "code",
   "execution_count": null,
   "metadata": {},
   "outputs": [],
   "source": [
    "\n",
    "os.makedirs(path_out_pce, exist_ok=True)"
   ]
  },
  {
   "cell_type": "code",
   "execution_count": null,
   "metadata": {},
   "outputs": [],
   "source": [
    "multi_fidelity_model.save_trace(f\"{path_out_pce}/trace.nc\")"
   ]
  },
  {
   "cell_type": "code",
   "execution_count": null,
   "metadata": {},
   "outputs": [],
   "source": [
    "multi_fidelity_model.summarize_sampler()"
   ]
  },
  {
   "cell_type": "code",
   "execution_count": null,
   "metadata": {},
   "outputs": [],
   "source": [
    "fig = multi_fidelity_model.pareto_k(f\"{path_out_pce}/pareto_k.png\")"
   ]
  },
  {
   "cell_type": "code",
   "execution_count": null,
   "metadata": {},
   "outputs": [],
   "source": [
    "fig = multi_fidelity_model.plot_diagnostics(f\"{path_out_pce}/bfmi.png\")"
   ]
  },
  {
   "cell_type": "code",
   "execution_count": null,
   "metadata": {},
   "outputs": [],
   "source": [
    "multi_fidelity_model.print_table(f\"{path_out_pce}/table.csv\")"
   ]
  },
  {
   "cell_type": "code",
   "execution_count": null,
   "metadata": {},
   "outputs": [],
   "source": [
    "fig = multi_fidelity_model.plot_pair(f\"{path_out_pce}/pair.png\")"
   ]
  },
  {
   "cell_type": "code",
   "execution_count": null,
   "metadata": {},
   "outputs": [],
   "source": [
    "fig = multi_fidelity_model.plot_trace(f\"{path_out_pce}/trace.png\")"
   ]
  }
 ],
 "metadata": {
  "kernelspec": {
   "display_name": "resum",
   "language": "python",
   "name": "resum"
  },
  "language_info": {
   "codemirror_mode": {
    "name": "ipython",
    "version": 3
   },
   "file_extension": ".py",
   "mimetype": "text/x-python",
   "name": "python",
   "nbconvert_exporter": "python",
   "pygments_lexer": "ipython3",
   "version": "3.10.16"
  }
 },
 "nbformat": 4,
 "nbformat_minor": 2
}
